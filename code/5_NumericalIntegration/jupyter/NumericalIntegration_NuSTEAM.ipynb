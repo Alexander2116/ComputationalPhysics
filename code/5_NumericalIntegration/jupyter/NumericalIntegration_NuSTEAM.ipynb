{
 "cells": [
  {
   "cell_type": "markdown",
   "metadata": {},
   "source": [
    "# Numerical integration (hands-on session)\n",
    "\n",
    "Consider a generic problem of integrating a function over some interval:\n",
    "$$\n",
    "I = \\int_{a}^b f(x) \\, dx\n",
    "$$\n",
    "\n",
    "We may need to resort to numerical integration when:\n",
    "- we have no explicit expression for $f(x)$ but only know its values at certain points\n",
    "- we do not know how to evaluate the antiderivative of $f(x)$ even if we know $f(x)$ itself\n",
    "\n",
    "There are two main types of numerical integration methods:\n",
    "- direct evaluation of the integral over the interval (a,b)\n",
    "- composite methods where the integration interval is separated into sub-intervals\n",
    "\n",
    "The most common methods are:\n",
    "\n",
    "- Rectangle, trapezoidal and Simpson rules\n",
    "- Quadratures (Newton-Cotes, Gaussian)\n",
    "\n",
    "\n",
    "Adaptive quadratures: divide the integration range into subintervals to control the error"
   ]
  },
  {
   "cell_type": "markdown",
   "metadata": {},
   "source": [
    "# Rectangle rule\n",
    "\n",
    "Approximate the integral by an area of a rectangle:\n",
    "\n",
    "$$\n",
    "\\int_{a}^b f(x) \\, dx \\approx (b - a) \\, f\\left(\\frac{a+b}{2}\\right)\n",
    "$$\n",
    "\n",
    "To improve the accuracy, separate the integration interval into $N$ subintervals of length $h = (b-a)/N$ and apply the rectangle rule to each of them\n",
    "$$\n",
    "\\int_a^b f(x) \\approx h \\sum_{k=1}^N f(x_k), \\qquad k = 1,\\ldots, N\n",
    "$$\n",
    "with\n",
    "$$\n",
    "x_k = a + \\frac{2k-1}{2} h~.\n",
    "$$"
   ]
  },
  {
   "cell_type": "code",
   "execution_count": 9,
   "metadata": {},
   "outputs": [],
   "source": [
    "# Rectangle rule for numerical integration \n",
    "# of function f(x) over (a,b) using N subintervals\n",
    "def rectangle_rule(f, a, b, N):\n",
    "    h = (b - a) / N\n",
    "    ret = 0.0\n",
    "    xk = a + h / 2.\n",
    "    for k in range(N):\n",
    "        ret += f(xk) * h\n",
    "        xk += h\n",
    "    return ret"
   ]
  },
  {
   "cell_type": "markdown",
   "metadata": {},
   "source": [
    "Consider a function $f(x) = x^4 - 2x + 2$ and its integral over $(0,2)$:\n",
    "$$\n",
    "\\int_0^2 ( x^4 - 2x + 2) dx = \\left. \\frac{x^5}{5} - x^2 + 2x \\right|_0^2 = 6.4\n",
    "$$"
   ]
  },
  {
   "cell_type": "code",
   "execution_count": 4,
   "metadata": {},
   "outputs": [],
   "source": [
    "# The function example we will use\n",
    "# Overwrite as applicable\n",
    "\n",
    "flabel = 'x^4 - 2x + 2'\n",
    "def f(x):\n",
    "    return x**4 - 2*x + 2\n",
    "flimit_a = 0.\n",
    "flimit_b = 2."
   ]
  },
  {
   "cell_type": "markdown",
   "metadata": {},
   "source": [
    "Let us evaluate the performance of numerical integration"
   ]
  },
  {
   "cell_type": "code",
   "execution_count": 10,
   "metadata": {
    "scrolled": false
   },
   "outputs": [
    {
     "name": "stdout",
     "output_type": "stream",
     "text": [
      "Computing the integral of x^4 - 2x + 2 over the interval ( 0.0 , 2.0 ) using rectangle rule\n",
      "N = 1 , I =  2.0\n",
      "N = 2 , I =  5.125\n",
      "N = 3 , I =  5.818930041152262\n",
      "N = 4 , I =  6.0703125\n",
      "N = 5 , I =  6.188159999999999\n",
      "N = 6 , I =  6.252572016460903\n",
      "N = 7 , I =  6.291545189504369\n",
      "N = 8 , I =  6.31689453125\n",
      "N = 9 , I =  6.334298633338417\n",
      "N = 10 , I =  6.346759999999996\n",
      "N = 11 , I =  6.355986612936278\n",
      "N = 12 , I =  6.363007973251031\n",
      "N = 13 , I =  6.368474493190009\n",
      "N = 14 , I =  6.37281341107871\n",
      "N = 15 , I =  6.376314732510287\n",
      "N = 16 , I =  6.379180908203125\n",
      "N = 17 , I =  6.381556734234506\n",
      "N = 18 , I =  6.383547985571311\n",
      "N = 19 , I =  6.385233385256395\n",
      "N = 20 , I =  6.386672500000006\n",
      "N = 21 , I =  6.387911072718333\n",
      "N = 22 , I =  6.388984700498595\n",
      "N = 23 , I =  6.3899214196633\n",
      "N = 24 , I =  6.3907435538837385\n",
      "N = 25 , I =  6.391469056000005\n",
      "N = 26 , I =  6.392112496061053\n",
      "N = 27 , I =  6.392685798298071\n",
      "N = 28 , I =  6.393198797376085\n",
      "N = 29 , I =  6.393659662849694\n",
      "N = 30 , I =  6.394075226337445\n"
     ]
    }
   ],
   "source": [
    "a = flimit_a\n",
    "b = flimit_b\n",
    "print(\"Computing the integral of\",flabel, \"over the interval (\",a,\",\",b,\") using rectangle rule\")\n",
    "for n in range(1,31):\n",
    "    print(\"N =\",n,\", I = \",rectangle_rule(f,a,b,n))"
   ]
  },
  {
   "cell_type": "markdown",
   "metadata": {},
   "source": [
    "# Trapezoidal rule\n",
    "\n",
    "Approximate the integral by an area of a trapezoid.\n",
    "This is achieved by linear interpolation of the function between (sub)interval endpoints:\n",
    "\n",
    "$$\n",
    "\\int_{a}^b f(x) \\, dx \\approx (b-a) \\, \\frac{f(a) + f(b)}{2}~.\n",
    "$$\n",
    "\n",
    "As for rectangle rule, to improve the accuracy, separate the integration interval into $N$ subintervals of length $h = (b-a)/N$ and apply the trapezoidal rule to each of them\n",
    "$$\n",
    "\\int_a^b f(x) \\approx h \\sum_{k=0}^N \\frac{f(x_k) + f(x_{k+1})}{2}, \\qquad i = 0,\\ldots, N\n",
    "$$\n",
    "with\n",
    "$$\n",
    "x_k = a +  k h~.\n",
    "$$"
   ]
  },
  {
   "cell_type": "markdown",
   "metadata": {},
   "source": [
    "### Exercise: Implement the trapezoidal rule in analogy to the rectangle rule above"
   ]
  },
  {
   "cell_type": "code",
   "execution_count": 8,
   "metadata": {},
   "outputs": [],
   "source": [
    "# Trapezoidal rule for numerical integration \n",
    "# of function f(x) over (a,b) using N subintervals\n",
    "def trapezoidal_rule(f, a, b, N):\n",
    "    ret = 0.\n",
    "    # Write the code implementing the trapezoidal rule here\n",
    "    return ret"
   ]
  },
  {
   "cell_type": "markdown",
   "metadata": {},
   "source": [
    "Once implemented, test the procedure on our integrand"
   ]
  },
  {
   "cell_type": "code",
   "execution_count": 11,
   "metadata": {
    "scrolled": false
   },
   "outputs": [
    {
     "name": "stdout",
     "output_type": "stream",
     "text": [
      "Computing the integral of x^4 - 2x + 2 over the interval ( 0.0 , 2.0 ) using trapezoidal rule\n",
      "N = 1 , I =  0.0\n",
      "N = 2 , I =  0.0\n",
      "N = 3 , I =  0.0\n",
      "N = 4 , I =  0.0\n",
      "N = 5 , I =  0.0\n",
      "N = 6 , I =  0.0\n",
      "N = 7 , I =  0.0\n",
      "N = 8 , I =  0.0\n",
      "N = 9 , I =  0.0\n",
      "N = 10 , I =  0.0\n",
      "N = 11 , I =  0.0\n",
      "N = 12 , I =  0.0\n",
      "N = 13 , I =  0.0\n",
      "N = 14 , I =  0.0\n",
      "N = 15 , I =  0.0\n",
      "N = 16 , I =  0.0\n",
      "N = 17 , I =  0.0\n",
      "N = 18 , I =  0.0\n",
      "N = 19 , I =  0.0\n",
      "N = 20 , I =  0.0\n",
      "N = 21 , I =  0.0\n",
      "N = 22 , I =  0.0\n",
      "N = 23 , I =  0.0\n",
      "N = 24 , I =  0.0\n",
      "N = 25 , I =  0.0\n",
      "N = 26 , I =  0.0\n",
      "N = 27 , I =  0.0\n",
      "N = 28 , I =  0.0\n",
      "N = 29 , I =  0.0\n",
      "N = 30 , I =  0.0\n"
     ]
    }
   ],
   "source": [
    "a = flimit_a\n",
    "b = flimit_b\n",
    "print(\"Computing the integral of\",flabel, \"over the interval (\",a,\",\",b,\") using trapezoidal rule\")\n",
    "for n in range(1,31):\n",
    "    print(\"N =\",n,\", I = \",trapezoidal_rule(f,a,b,n))\n",
    "    "
   ]
  },
  {
   "cell_type": "markdown",
   "metadata": {},
   "source": [
    "Feel free to play around with other integrands"
   ]
  },
  {
   "cell_type": "markdown",
   "metadata": {},
   "source": [
    "# Simpson's rule\n",
    "\n",
    "Recall the error estimate for rectangle and trapezoidal rules:\n",
    "$$\n",
    "I - I_{\\rm rect} = \\frac{(b-a)^3}{24} f''(a) + \\mathcal{O}(h^4)\n",
    "$$\n",
    "and\n",
    "$$\n",
    "I - I_{\\rm trap} = -\\frac{(b-a)^3}{12} f''(a) + \\mathcal{O}(h^4).\n",
    "$$\n",
    "\n",
    "Simpson's rule is a combination rectangle and trapezoidal rules:\n",
    "\n",
    "$$\n",
    "I_S = \\frac{2I_{\\rm rect} + I_{\\rm trap}}{3}.\n",
    "$$\n",
    "\n",
    "This combination is chosen such that $O[(b-a)^3]$ error term vanishes. \n",
    "Another way to derive Simpson's rule is to interpolate the integrand by a quadratic polynomial through the endpoints and the midpoint.\n",
    "\n",
    "Simpson's rule reads\n",
    "$$\n",
    "\\int_{a}^b f(x) \\, dx \\approx \\frac{(b-a)}{6} \\, \\left[f(a) + 4 f \\left( \\frac{a+b}{2} \\right) + f(b)\\right].\n",
    "$$\n",
    "\n",
    "In the composite Simpson's rule one splits the integration interval into an even number $N$ of subintervals.\n",
    "With $h = (b-a)/N$ one has\n",
    "$$\n",
    "\\int_a^b f(x) \\approx \\frac{h}{3} \\left[f(x_0) + 4 \\sum_{k=1}^{N/2} f(x_{2k-1}) + 2 \\sum_{k=1}^{N/2-1} f(x_{2k}) + f(x_N) \\right] , \\qquad i = 0,\\ldots, N\n",
    "$$\n",
    "with\n",
    "$$\n",
    "x_k = a +  k h~.\n",
    "$$"
   ]
  },
  {
   "cell_type": "markdown",
   "metadata": {},
   "source": [
    "### Exercise (feel free to skip): Implement Simpson's rule in analogy to the rectangle and trapezoidal rules above"
   ]
  },
  {
   "cell_type": "code",
   "execution_count": 16,
   "metadata": {},
   "outputs": [],
   "source": [
    "# Simpson's rule for numerical integration \n",
    "# of function f(x) over (a,b) using n subintervals\n",
    "def simpson_rule(f, a, b, n):\n",
    "    ret = 0\n",
    "    # Implement the Simpson's rule here\n",
    "    return ret"
   ]
  },
  {
   "cell_type": "code",
   "execution_count": 17,
   "metadata": {},
   "outputs": [
    {
     "name": "stdout",
     "output_type": "stream",
     "text": [
      "Simpson's rule:\n",
      "N = 2 , I =  0\n",
      "N = 4 , I =  0\n",
      "N = 6 , I =  0\n",
      "N = 8 , I =  0\n",
      "N = 10 , I =  0\n",
      "\n",
      "Trapezoidal rule:\n",
      "N = 2 , I =  0.0\n",
      "N = 4 , I =  0.0\n",
      "N = 6 , I =  0.0\n",
      "N = 8 , I =  0.0\n",
      "N = 10 , I =  0.0\n"
     ]
    }
   ],
   "source": [
    "flabelquad = 'f(x) = 3 * x^2 + x + 3'\n",
    "def fquad(x):\n",
    "    return 3. * x**2 + x + 3.\n",
    "\n",
    "a = 0.\n",
    "b = 2.\n",
    "print(\"Simpson's rule:\")\n",
    "for n in range(2,11,2):\n",
    "    print(\"N =\",n,\", I = \",simpson_rule(fquad,a,b,n))\n",
    "\n",
    "print('')\n",
    "\n",
    "print(\"Trapezoidal rule:\")\n",
    "for n in range(2,11,2):\n",
    "    print(\"N =\",n,\", I = \",trapezoidal_rule(fquad,a,b,n))"
   ]
  },
  {
   "cell_type": "code",
   "execution_count": 19,
   "metadata": {},
   "outputs": [
    {
     "name": "stdout",
     "output_type": "stream",
     "text": [
      "Simpson's rule:\n",
      "N = 2 , I =  0\n",
      "N = 4 , I =  0\n",
      "N = 6 , I =  0\n",
      "N = 8 , I =  0\n",
      "N = 10 , I =  0\n",
      "\n",
      "Trapezoidal rule:\n",
      "N = 2 , I =  0.0\n",
      "N = 4 , I =  0.0\n",
      "N = 6 , I =  0.0\n",
      "N = 8 , I =  0.0\n",
      "N = 10 , I =  0.0\n"
     ]
    }
   ],
   "source": [
    "flabelcubic = 'f(x) = 2*x^3 - 3 * x^2 + x + 3'\n",
    "def fcubic(x):\n",
    "    return 2. * x**3 - 3. * x**2 + x + 3.\n",
    "\n",
    "a = 0.\n",
    "b = 2.\n",
    "print(\"Simpson's rule:\")\n",
    "for n in range(2,11,2):\n",
    "    print(\"N =\",n,\", I = \",simpson_rule(fcubic,a,b,n))\n",
    "    \n",
    "print('')\n",
    "\n",
    "print(\"Trapezoidal rule:\")\n",
    "for n in range(2,11,2):\n",
    "    print(\"N =\",n,\", I = \",trapezoidal_rule(fcubic,a,b,n))"
   ]
  },
  {
   "cell_type": "markdown",
   "metadata": {},
   "source": [
    "## Improper integrals\n",
    "\n",
    "Some integrals may contain peculiarities like:\n",
    "- Integrable singularity (typically at endpoints)\n",
    "- (Semi-)infinite integration range\n",
    "\n"
   ]
  },
  {
   "cell_type": "markdown",
   "metadata": {},
   "source": [
    "#### Integrable singularities\n",
    "Consider\n",
    "$$\n",
    "\\int_0^1 \\frac{1}{\\sqrt{x}} dx = \\left. 2\\sqrt{x} \\right|_0^1 = 2\n",
    "$$\n",
    "\n",
    "The integrand diverges at $x = 0$, however, this singularity is integrable.\n",
    "\n",
    "The trapezoidal and any method that makes use of function evaluation at integration endpoints will fail, however, due to division by zero."
   ]
  },
  {
   "cell_type": "code",
   "execution_count": 67,
   "metadata": {},
   "outputs": [
    {
     "name": "stderr",
     "output_type": "stream",
     "text": [
      "/var/folders/3v/f0ynmrq5313979_z9dzqpvr00000gp/T/ipykernel_99447/847063500.py:2: RuntimeWarning: divide by zero encountered in double_scalars\n",
      "  return 1./np.sqrt(x)\n"
     ]
    },
    {
     "data": {
      "text/plain": [
       "inf"
      ]
     },
     "execution_count": 67,
     "metadata": {},
     "output_type": "execute_result"
    }
   ],
   "source": [
    "def fsing1(x):\n",
    "    return 1./np.sqrt(x)\n",
    "\n",
    "trapezoidal_rule(fsing1,0.,1.,10)"
   ]
  },
  {
   "cell_type": "markdown",
   "metadata": {},
   "source": [
    "On the other hand, the rectangular rule seems to work (albeit slowly)"
   ]
  },
  {
   "cell_type": "code",
   "execution_count": 68,
   "metadata": {},
   "outputs": [
    {
     "name": "stdout",
     "output_type": "stream",
     "text": [
      "Using rectangle rule to evaluate \\int_0^1 1/\\sqrt{x} dx\n",
      "Iteration:     1, I =    1.414213562373095\n",
      "Iteration:     2, I =    1.577350269189626, error estimate = 0.054378902272177\n",
      "Iteration:     3, I =    1.698844079579673, error estimate = 0.040497936796682\n",
      "Iteration:     4, I =    1.786461001734842, error estimate = 0.029205640718390\n",
      "Iteration:     5, I =    1.848856684639738, error estimate = 0.020798560968299\n",
      "Iteration:     6, I =    1.893088359706383, error estimate = 0.014743891688882\n",
      "Iteration:     7, I =    1.924392755699513, error estimate = 0.010434798664376\n",
      "Iteration:     8, I =    1.946535279970520, error estimate = 0.007380841423669\n",
      "Iteration:     9, I =    1.962194152677056, error estimate = 0.005219624235512\n",
      "Iteration:    10, I =    1.973267083679453, error estimate = 0.003690977000799\n",
      "Iteration:    11, I =    1.981096937261288, error estimate = 0.002609951193945\n",
      "Iteration:    12, I =    1.986633507070365, error estimate = 0.001845523269692\n",
      "Iteration:    13, I =    1.990548459938304, error estimate = 0.001304984289313\n",
      "Iteration:    14, I =    1.993316751362098, error estimate = 0.000922763807931\n"
     ]
    },
    {
     "data": {
      "text/plain": [
       "1.993316751362098"
      ]
     },
     "execution_count": 68,
     "metadata": {},
     "output_type": "execute_result"
    }
   ],
   "source": [
    "print('Using rectangle rule to evaluate \\int_0^1 1/\\sqrt{x} dx')\n",
    "nst = 1\n",
    "rectangle_rule_adaptive(fsing1,0.,1.,1,1.e-3,20)"
   ]
  },
  {
   "cell_type": "markdown",
   "metadata": {},
   "source": [
    "#### Semi-infinite integration range\n",
    "Consider\n",
    "$$\n",
    "\\int_a^\\infty f(x) dx\n",
    "$$\n",
    "\n",
    "The semi-infinite range can be mapped into (0,1) range by appropriate variable transformation.\n",
    "For instance, if\n",
    "$$\n",
    "x = a + \\frac{t}{1-t},\n",
    "$$\n",
    "then\n",
    "$dx = \\frac{dt}{1-t^2}$ \n",
    "and\n",
    "$$\n",
    "\\int_a^\\infty f(x) dx = \\int_0^1 f\\left(a + \\frac{t}{1-t}\\right) \\frac{dt}{1-t^2} = \\int_0^1 g(t) dt\n",
    "$$\n",
    "\n",
    "Let us try it with\n",
    "$$\n",
    "\\int_0^\\infty e^{-x} dx = 1\n",
    "$$"
   ]
  },
  {
   "cell_type": "code",
   "execution_count": 21,
   "metadata": {},
   "outputs": [],
   "source": [
    "def fexp(x):\n",
    "    return np.exp(-x)\n",
    "\n",
    "def g(t, f, a = 0.):\n",
    "    return f(a + t / (1. - t)) / (1. - t)**2\n"
   ]
  },
  {
   "cell_type": "code",
   "execution_count": 29,
   "metadata": {},
   "outputs": [
    {
     "name": "stdout",
     "output_type": "stream",
     "text": [
      "Using change of variable and a 20-point rectangle rule to evaluate \\int_0^\\infty \\exp(-x) dx\n"
     ]
    },
    {
     "data": {
      "text/plain": [
       "1.0001083036209222"
      ]
     },
     "execution_count": 29,
     "metadata": {},
     "output_type": "execute_result"
    }
   ],
   "source": [
    "a = 0.\n",
    "def frect(x):\n",
    "    return g(x, fexp, a)\n",
    "\n",
    "Nrect = 20\n",
    "print('Using change of variable and a ' + str(Nrect) +'-point rectangle rule to evaluate \\int_0^\\infty \\exp(-x) dx')\n",
    "rectangle_rule(frect,0.,1.,Nrect)"
   ]
  },
  {
   "cell_type": "markdown",
   "metadata": {},
   "source": [
    "## Exercise: Thermal density\n",
    "\n",
    "In ideal gas, the density of particles can be calculated as an integral over the momentum states\n",
    "$$\n",
    "n = \\frac{d}{2\\pi^2} \\int_0^\\infty dk \\, k^2 \\, \\left[\\exp\\left\\{\\frac{\\sqrt{m^2+k^2}-\\mu}{T} \\right\\} + \\eta \\right ]^{-1}.\n",
    "$$\n",
    "Here $d$ is the spin degeneracy, $m$ is the mass of the particle, and $T$ and $\\mu$ are the temperature and chemical potential. $\\eta$ is the statitics, such that $\\eta = +1$ corresponds to Fermi-Dirac distributio, $\\eta = -1$ to Bose-Einstein distribution, and $\\eta = 0$ to Maxwell-Boltzmann approximation.\n",
    "\n",
    "In general, the integral has to be evaluated numerically. First, it is useful to make the integration variable dimensionless through a change of variable $\\tilde k = k / T$. Then\n",
    "$$\n",
    "n = \\frac{d T^3}{2\\pi^2} \\int_0^\\infty d \\tilde k \\, \\tilde k^2 \\, \\left[\\exp\\left\\{\\sqrt{(m/T)^2+\\tilde k^2}-\\mu/T \\right\\} + \\eta \\right ]^{-1},\n",
    "$$\n",
    "which can be cast in a form\n",
    "$$\n",
    "n/T^3 = \\int_0^\\infty d x f(x)\n",
    "$$\n",
    "with\n",
    "$$\n",
    "f(x) = \\frac{d}{2\\pi^2} x^2 \\, \\left[\\exp\\left\\{\\sqrt{(m/T)^2+x^2}-\\mu/T \\right\\} + \\eta \\right ]^{-1}~.\n",
    "$$"
   ]
  },
  {
   "cell_type": "markdown",
   "metadata": {},
   "source": [
    "1. Make a change of variables $x \\to t/(1-t)$ to convert the semi-infinite integration range $x \\in (0,\\infty)$ into a finite range $t \\in (0,1)$.\n",
    "2. Calculate the scaled density $n/T^3$ using numerical integration for the following values of parameters, corresponding to an ideal gas of $\\pi$-mesons:\n",
    "$$\n",
    "m = 138~\\textrm{MeV}, \\qquad d = 1, \\qquad T = 150~\\textrm{MeV}, \\qquad \\mu = 0.\n",
    "$$\n",
    "Ignore quantum statisics for the time being by setting $\\eta = 0$.\n",
    "3. Compare the results to the analytic expression\n",
    "$$\n",
    "n/T^3 = \\frac{d m^2}{2\\pi^2 T^2} K_2(m/T) e^{\\mu/T}.\n",
    "$$\n",
    "Here $K_2$ is the modified Bessel function of the second kind, which is accessbile through scipy package (see code below)\n",
    "4. Incorporate the effect of Bose statistics by setting $\\eta = -1$ and compare the results to the $\\eta = 0$ case"
   ]
  },
  {
   "cell_type": "code",
   "execution_count": 38,
   "metadata": {},
   "outputs": [
    {
     "name": "stdout",
     "output_type": "stream",
     "text": [
      "0.08472249379368636\n"
     ]
    }
   ],
   "source": [
    "from scipy.special import kn\n",
    "\n",
    "# Analytic expression for the density in the Maxwell-Boltzmann limit\n",
    "def nT3analyt(T, mu, m, d = 1):\n",
    "    return d * m**2 / (2 * np.pi**2 * T**2) * kn(2,m/T) * np.exp(mu/T)\n",
    "\n",
    "print(nT3analyt(150,0,138))"
   ]
  },
  {
   "cell_type": "code",
   "execution_count": 70,
   "metadata": {},
   "outputs": [
    {
     "name": "stdout",
     "output_type": "stream",
     "text": [
      "0.08585408635332577\n"
     ]
    }
   ],
   "source": [
    "T = 150\n",
    "mu = 0\n",
    "m = 138\n",
    "d = 1\n",
    "eta = 0\n",
    "\n",
    "def fThermal(x):\n",
    "    return d * x**2 / (2 * np.pi**2) / (np.exp(np.sqrt((m/T)**2 + x**2) - mu/T) + eta)\n",
    "\n",
    "def g(t, f, a = 0.):\n",
    "    return f(a + t / (1. - t)) / (1. - t)**2\n",
    "\n",
    "def calculateIntegral(N = 10):\n",
    "    def fInt(t):\n",
    "        return g(t, fThermal, 0)\n",
    "    return rectangle_rule(fInt, 0., 1., N)\n",
    "\n",
    "print(calculateIntegral(10))"
   ]
  },
  {
   "cell_type": "markdown",
   "metadata": {},
   "source": [
    "### Infinite interval\n",
    "\n",
    "For an infinite interval\n",
    "$$\n",
    "\\int_{-\\infty}^\\infty f(x) dx\n",
    "$$\n",
    "\n",
    "one option is\n",
    "$$\n",
    "x = \\frac{t}{1-t^2}\n",
    "$$\n",
    "giving\n",
    "$dx = \\frac{1+t^2}{(1-t^2)^2} dt$ \n",
    "and\n",
    "$$\n",
    "\\int_{-\\infty}^\\infty f(x) dx = \n",
    "\\int_{-1}^1 f\\left(\\frac{t}{1-t^2}\\right) \\frac{1+t^2}{(1-t^2)^2} dt = \\int_{-1}^1 g(t) dt\n",
    "$$\n",
    "\n",
    "Let us try it with\n",
    "$$\n",
    "\\int_{-\\infty}^\\infty e^{-x^2} dx = \\sqrt{\\pi} = 1.772454\\ldots\n",
    "$$"
   ]
  },
  {
   "cell_type": "code",
   "execution_count": 71,
   "metadata": {},
   "outputs": [],
   "source": [
    "def fexp2(x):\n",
    "    return np.exp(-x**2)\n",
    "\n",
    "def g2(t, f):\n",
    "    return f(t / (1. - t**2)) * (1.+t**2) / (1. - t**2)**2\n"
   ]
  },
  {
   "cell_type": "code",
   "execution_count": 80,
   "metadata": {},
   "outputs": [
    {
     "name": "stdout",
     "output_type": "stream",
     "text": [
      "Using change of variable and a 20-point rectangle rule to evaluate \\int_{-\\infty}^\\infty \\exp(-x^2) dx\n",
      "1.7735735573294187\n",
      "Expected value: \\sqrt{\\pi} = 1.7724538509055159\n"
     ]
    }
   ],
   "source": [
    "def frect2(x):\n",
    "    return g2(x, fexp2)\n",
    "\n",
    "Nrect = 20\n",
    "print('Using change of variable and a ' + str(Nrect)+ '-point rectangle rule to evaluate \\int_{-\\infty}^\\infty \\exp(-x^2) dx')\n",
    "print(rectangle_rule(frect2,-1.,1.,20))\n",
    "\n",
    "print('Expected value: \\sqrt{\\pi} =', np.sqrt(np.pi))"
   ]
  }
 ],
 "metadata": {
  "kernelspec": {
   "display_name": "Python 3 (ipykernel)",
   "language": "python",
   "name": "python3"
  },
  "language_info": {
   "codemirror_mode": {
    "name": "ipython",
    "version": 3
   },
   "file_extension": ".py",
   "mimetype": "text/x-python",
   "name": "python",
   "nbconvert_exporter": "python",
   "pygments_lexer": "ipython3",
   "version": "3.9.13"
  }
 },
 "nbformat": 4,
 "nbformat_minor": 2
}
